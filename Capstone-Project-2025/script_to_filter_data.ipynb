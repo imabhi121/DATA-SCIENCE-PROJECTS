{
 "cells": [
  {
   "cell_type": "code",
   "execution_count": 15,
   "id": "7e0b806f-1f05-413a-a16e-3d1e1c7299be",
   "metadata": {},
   "outputs": [],
   "source": [
    "import pandas as pd"
   ]
  },
  {
   "cell_type": "code",
   "execution_count": 17,
   "id": "f063a7e7-4944-4fdd-98e0-47c8274093e1",
   "metadata": {},
   "outputs": [],
   "source": [
    "file = \"311_Service_Requests_20250401.csv\" "
   ]
  },
  {
   "cell_type": "code",
   "execution_count": 19,
   "id": "2f2a6deb-bd03-4554-b4f5-b3f4f78c2b1c",
   "metadata": {},
   "outputs": [
    {
     "name": "stderr",
     "output_type": "stream",
     "text": [
      "/var/folders/cw/402976tj3vn6g6sxth0cnr640000gn/T/ipykernel_2833/3976388935.py:7: FutureWarning: The argument 'date_parser' is deprecated and will be removed in a future version. Please use 'date_format' instead, or read your data in as 'object' dtype and then call 'to_datetime'.\n",
      "  for chunk in pd.read_csv(file, chunksize=chunksize, parse_dates=[\"requested_date\"], date_parser=date_parser):\n"
     ]
    }
   ],
   "source": [
    "# Process in chunks to avoid memory issues ===\n",
    "chunksize = 100000\n",
    "filtered_chunks = []\n",
    "\n",
    "date_parser = lambda x: pd.to_datetime(x, format=\"%Y/%m/%d %I:%M:%S %p\", errors='coerce')\n",
    "\n",
    "for chunk in pd.read_csv(file, chunksize=chunksize, parse_dates=[\"requested_date\"], date_parser=date_parser):\n",
    "    chunk['year'] = chunk['requested_date'].dt.year\n",
    "    recent_data = chunk[chunk['year'].between(2023, 2025)]\n",
    "    filtered_chunks.append(recent_data)"
   ]
  },
  {
   "cell_type": "code",
   "execution_count": 20,
   "id": "7227bc8a-ed97-4419-9596-dd73c5a3a981",
   "metadata": {},
   "outputs": [],
   "source": [
    "# Combine chunks\n",
    "filtered_df = pd.concat(filtered_chunks)"
   ]
  },
  {
   "cell_type": "code",
   "execution_count": 21,
   "id": "2c848bfe-8706-4744-88cc-f27911199e5a",
   "metadata": {},
   "outputs": [
    {
     "name": "stdout",
     "output_type": "stream",
     "text": [
      "Done! Filtered data saved as '311_filtered_2023_2025.csv'\n"
     ]
    }
   ],
   "source": [
    "# Save to smaller CSV \n",
    "filtered_df.to_csv(\"311_filtered_2023_2025.csv\", index=False)\n",
    "\n",
    "print(\"Done! Filtered data saved as '311_filtered_2023_2025.csv'\")"
   ]
  },
  {
   "cell_type": "code",
   "execution_count": 25,
   "id": "c0a4da50-587e-4da8-aa0a-dbfa9ced2fb3",
   "metadata": {},
   "outputs": [
    {
     "name": "stdout",
     "output_type": "stream",
     "text": [
      "helllo, world!\n"
     ]
    }
   ],
   "source": [
    "print(\"helllo, world!\")"
   ]
  },
  {
   "cell_type": "code",
   "execution_count": null,
   "id": "f06774f2-0b64-4e06-959c-eb04cd13e789",
   "metadata": {},
   "outputs": [],
   "source": []
  }
 ],
 "metadata": {
  "kernelspec": {
   "display_name": "Python [conda env:base] *",
   "language": "python",
   "name": "conda-base-py"
  },
  "language_info": {
   "codemirror_mode": {
    "name": "ipython",
    "version": 3
   },
   "file_extension": ".py",
   "mimetype": "text/x-python",
   "name": "python",
   "nbconvert_exporter": "python",
   "pygments_lexer": "ipython3",
   "version": "3.12.7"
  }
 },
 "nbformat": 4,
 "nbformat_minor": 5
}
